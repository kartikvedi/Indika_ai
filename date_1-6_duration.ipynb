{
 "cells": [
  {
   "cell_type": "code",
   "execution_count": 1,
   "id": "13e2276e",
   "metadata": {},
   "outputs": [],
   "source": [
    "import os"
   ]
  },
  {
   "cell_type": "code",
   "execution_count": 2,
   "id": "eafa10cc",
   "metadata": {},
   "outputs": [
    {
     "data": {
      "text/plain": [
       "'C:\\\\Users\\\\pc\\\\Desktop\\\\Date_01_08_22_to_06_08_22'"
      ]
     },
     "execution_count": 2,
     "metadata": {},
     "output_type": "execute_result"
    }
   ],
   "source": [
    "os.getcwd()"
   ]
  },
  {
   "cell_type": "code",
   "execution_count": 4,
   "id": "c8907462",
   "metadata": {},
   "outputs": [
    {
     "data": {
      "text/plain": [
       "['.ipynb_checkpoints',\n",
       " 'date_1-6_duration.ipynb',\n",
       " 'person_1',\n",
       " 'person_2',\n",
       " 'person_3',\n",
       " 'person_4',\n",
       " 'person_5',\n",
       " 'person_6',\n",
       " 'person_7',\n",
       " 'person_8']"
      ]
     },
     "execution_count": 4,
     "metadata": {},
     "output_type": "execute_result"
    }
   ],
   "source": [
    "os.listdir('C:\\\\Users\\\\pc\\\\Desktop\\\\Date_01_08_22_to_06_08_22')"
   ]
  },
  {
   "cell_type": "code",
   "execution_count": 5,
   "id": "50fdff40",
   "metadata": {},
   "outputs": [],
   "source": [
    "import librosa"
   ]
  },
  {
   "cell_type": "code",
   "execution_count": 6,
   "id": "69d45dca",
   "metadata": {},
   "outputs": [
    {
     "name": "stdout",
     "output_type": "stream",
     "text": [
      "Total duration: 430.5999999999995\n"
     ]
    }
   ],
   "source": [
    "path =\"C:/Users/pc/Desktop/Date_01_08_22_to_06_08_22/person_1/completed\"\n",
    "users=os.listdir(path)\n",
    "total_duration=0\n",
    "#print(users)\n",
    "for user in users:\n",
    "    user_path = path + \"/\" + user\n",
    "    user_folders=os.listdir(user_path)\n",
    "    #print(user_folders)\n",
    "    for file in user_folders:\n",
    "        if file.endswith(\".mp3\"):\n",
    "            try:\n",
    "                #print(file)\n",
    "                duration=librosa.get_duration(filename=user_path + \"/\" + file)\n",
    "                #print(duration)\n",
    "                total_duration+=duration\n",
    "            except Exception:\n",
    "                print(\"😰  Exception Occurred.\")\n",
    "print(f'Total duration: {total_duration}')"
   ]
  },
  {
   "cell_type": "code",
   "execution_count": 7,
   "id": "36078966",
   "metadata": {},
   "outputs": [
    {
     "name": "stdout",
     "output_type": "stream",
     "text": [
      "Total duration: 914.6000000000001\n"
     ]
    }
   ],
   "source": [
    "path =\"C:/Users/pc/Desktop/Date_01_08_22_to_06_08_22/person_2/completed\"\n",
    "users=os.listdir(path)\n",
    "total_duration=0\n",
    "#print(users)\n",
    "for user in users:\n",
    "    user_path = path + \"/\" + user\n",
    "    user_folders=os.listdir(user_path)\n",
    "    #print(user_folders)\n",
    "    for file in user_folders:\n",
    "        if file.endswith(\".mp3\"):\n",
    "            try:\n",
    "                #print(file)\n",
    "                duration=librosa.get_duration(filename=user_path + \"/\" + file)\n",
    "                #print(duration)\n",
    "                total_duration+=duration\n",
    "            except Exception:\n",
    "                print(\"😰  Exception Occurred.\")\n",
    "print(f'Total duration: {total_duration}')"
   ]
  },
  {
   "cell_type": "code",
   "execution_count": 8,
   "id": "734d9213",
   "metadata": {},
   "outputs": [
    {
     "name": "stdout",
     "output_type": "stream",
     "text": [
      "Total duration: 273.1000000000002\n"
     ]
    }
   ],
   "source": [
    "path =\"C:/Users/pc/Desktop/Date_01_08_22_to_06_08_22/person_3/completed\"\n",
    "users=os.listdir(path)\n",
    "total_duration=0\n",
    "#print(users)\n",
    "for user in users:\n",
    "    user_path = path + \"/\" + user\n",
    "    user_folders=os.listdir(user_path)\n",
    "    #print(user_folders)\n",
    "    for file in user_folders:\n",
    "        if file.endswith(\".mp3\"):\n",
    "            try:\n",
    "                #print(file)\n",
    "                duration=librosa.get_duration(filename=user_path + \"/\" + file)\n",
    "                #print(duration)\n",
    "                total_duration+=duration\n",
    "            except Exception:\n",
    "                print(\"😰  Exception Occurred.\")\n",
    "print(f'Total duration: {total_duration}')"
   ]
  },
  {
   "cell_type": "code",
   "execution_count": 9,
   "id": "d7b63ca7",
   "metadata": {},
   "outputs": [
    {
     "name": "stdout",
     "output_type": "stream",
     "text": [
      "Total duration: 915.399999999999\n"
     ]
    }
   ],
   "source": [
    "path =\"C:/Users/pc/Desktop/Date_01_08_22_to_06_08_22/person_4/completed\"\n",
    "users=os.listdir(path)\n",
    "total_duration=0\n",
    "#print(users)\n",
    "for user in users:\n",
    "    user_path = path + \"/\" + user\n",
    "    user_folders=os.listdir(user_path)\n",
    "    #print(user_folders)\n",
    "    for file in user_folders:\n",
    "        if file.endswith(\".mp3\"):\n",
    "            try:\n",
    "                #print(file)\n",
    "                duration=librosa.get_duration(filename=user_path + \"/\" + file)\n",
    "                #print(duration)\n",
    "                total_duration+=duration\n",
    "            except Exception:\n",
    "                print(\"😰  Exception Occurred.\")\n",
    "print(f'Total duration: {total_duration}')"
   ]
  },
  {
   "cell_type": "code",
   "execution_count": 10,
   "id": "44ef0c1d",
   "metadata": {},
   "outputs": [
    {
     "name": "stdout",
     "output_type": "stream",
     "text": [
      "Total duration: 424.4999999999999\n"
     ]
    }
   ],
   "source": [
    "path =\"C:/Users/pc/Desktop/Date_01_08_22_to_06_08_22/person_5/completed\"\n",
    "users=os.listdir(path)\n",
    "total_duration=0\n",
    "#print(users)\n",
    "for user in users:\n",
    "    user_path = path + \"/\" + user\n",
    "    user_folders=os.listdir(user_path)\n",
    "    #print(user_folders)\n",
    "    for file in user_folders:\n",
    "        if file.endswith(\".mp3\"):\n",
    "            try:\n",
    "                #print(file)\n",
    "                duration=librosa.get_duration(filename=user_path + \"/\" + file)\n",
    "                #print(duration)\n",
    "                total_duration+=duration\n",
    "            except Exception:\n",
    "                print(\"😰  Exception Occurred.\")\n",
    "print(f'Total duration: {total_duration}')"
   ]
  },
  {
   "cell_type": "code",
   "execution_count": 11,
   "id": "75d36b30",
   "metadata": {},
   "outputs": [
    {
     "name": "stdout",
     "output_type": "stream",
     "text": [
      "Total duration: 945.4999999999997\n"
     ]
    }
   ],
   "source": [
    "path =\"C:/Users/pc/Desktop/Date_01_08_22_to_06_08_22/person_6/completed\"\n",
    "users=os.listdir(path)\n",
    "total_duration=0\n",
    "#print(users)\n",
    "for user in users:\n",
    "    user_path = path + \"/\" + user\n",
    "    user_folders=os.listdir(user_path)\n",
    "    #print(user_folders)\n",
    "    for file in user_folders:\n",
    "        if file.endswith(\".mp3\"):\n",
    "            try:\n",
    "                #print(file)\n",
    "                duration=librosa.get_duration(filename=user_path + \"/\" + file)\n",
    "                #print(duration)\n",
    "                total_duration+=duration\n",
    "            except Exception:\n",
    "                print(\"😰  Exception Occurred.\")\n",
    "print(f'Total duration: {total_duration}')"
   ]
  },
  {
   "cell_type": "code",
   "execution_count": 14,
   "id": "c1b2275b",
   "metadata": {},
   "outputs": [
    {
     "name": "stdout",
     "output_type": "stream",
     "text": [
      "Total duration: 2253.7999999999984\n"
     ]
    }
   ],
   "source": [
    "path =\"C:/Users/pc/Desktop/Date_01_08_22_to_06_08_22/person_7/completed\"\n",
    "users=os.listdir(path)\n",
    "total_duration=0\n",
    "#print(users)\n",
    "for user in users:\n",
    "    user_path = path + \"/\" + user\n",
    "    user_folders=os.listdir(user_path)\n",
    "    #print(user_folders)\n",
    "    for file in user_folders:\n",
    "        if file.endswith(\".mp3\"):\n",
    "            try:\n",
    "                #print(file)\n",
    "                duration=librosa.get_duration(filename=user_path + \"/\" + file)\n",
    "                #print(duration)\n",
    "                total_duration+=duration\n",
    "            except Exception:\n",
    "                print(\"😰  Exception Occurred.\")\n",
    "print(f'Total duration: {total_duration}')"
   ]
  },
  {
   "cell_type": "code",
   "execution_count": 15,
   "id": "cde7a77b",
   "metadata": {},
   "outputs": [
    {
     "name": "stdout",
     "output_type": "stream",
     "text": [
      "Total duration: 2557.2999999999997\n"
     ]
    }
   ],
   "source": [
    "path =\"C:/Users/pc/Desktop/Date_01_08_22_to_06_08_22/person_8/completed\"\n",
    "users=os.listdir(path)\n",
    "total_duration=0\n",
    "#print(users)\n",
    "for user in users:\n",
    "    user_path = path + \"/\" + user\n",
    "    user_folders=os.listdir(user_path)\n",
    "    #print(user_folders)\n",
    "    for file in user_folders:\n",
    "        if file.endswith(\".mp3\"):\n",
    "            try:\n",
    "                #print(file)\n",
    "                duration=librosa.get_duration(filename=user_path + \"/\" + file)\n",
    "                #print(duration)\n",
    "                total_duration+=duration\n",
    "            except Exception:\n",
    "                print(\"😰  Exception Occurred.\")\n",
    "print(f'Total duration: {total_duration}')"
   ]
  },
  {
   "cell_type": "code",
   "execution_count": 16,
   "id": "15c50552",
   "metadata": {},
   "outputs": [
    {
     "name": "stdout",
     "output_type": "stream",
     "text": [
      "Total duration: 8714.799999999996\n"
     ]
    }
   ],
   "source": [
    "duration=430.5999999999995+914.6000000000001+273.1000000000002+915.399999999999+424.4999999999999+945.4999999999997+2253.7999999999984+2557.2999999999997\n",
    "print(f'Total duration: {duration}')"
   ]
  },
  {
   "cell_type": "code",
   "execution_count": null,
   "id": "46aed048",
   "metadata": {},
   "outputs": [],
   "source": []
  }
 ],
 "metadata": {
  "kernelspec": {
   "display_name": "Python 3 (ipykernel)",
   "language": "python",
   "name": "python3"
  },
  "language_info": {
   "codemirror_mode": {
    "name": "ipython",
    "version": 3
   },
   "file_extension": ".py",
   "mimetype": "text/x-python",
   "name": "python",
   "nbconvert_exporter": "python",
   "pygments_lexer": "ipython3",
   "version": "3.9.7"
  }
 },
 "nbformat": 4,
 "nbformat_minor": 5
}
